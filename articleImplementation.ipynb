{
 "cells": [
  {
   "cell_type": "code",
   "execution_count": 1,
   "id": "1589a564-8faf-4713-99f9-3ce38a24f0a3",
   "metadata": {},
   "outputs": [
    {
     "data": {
      "text/plain": [
       "True"
      ]
     },
     "execution_count": 1,
     "metadata": {},
     "output_type": "execute_result"
    }
   ],
   "source": [
    "from dotenv import load_dotenv\n",
    "\n",
    "load_dotenv()"
   ]
  },
  {
   "cell_type": "code",
   "execution_count": 2,
   "id": "1ea583f5-17da-4751-a9d0-03210b0dff20",
   "metadata": {},
   "outputs": [],
   "source": [
    "from langchain_openai import ChatOpenAI\n",
    "\n",
    "llm = ChatOpenAI(model=\"gpt-4o-mini\")"
   ]
  },
  {
   "cell_type": "code",
   "execution_count": 3,
   "id": "c5530cb1-2c8f-4241-9cea-f2609d8b861c",
   "metadata": {},
   "outputs": [
    {
     "name": "stdout",
     "output_type": "stream",
     "text": [
      "difference between soccer and football\n",
      "This query addresses the confusion surrounding the terms 'soccer' and 'football', giving insights into their origins and why different cultures use different names.\n"
     ]
    }
   ],
   "source": [
    "from pydantic import BaseModel, Field\n",
    "\n",
    "# Schema for structured output\n",
    "class SearchQuery(BaseModel):\n",
    "    search_query: str = Field(None, description=\"Query that is optimized web search.\")\n",
    "    justification: str = Field(None, description=\"Why is this query relevant for the user's request.\")\n",
    "\n",
    "# Augment the LLM with schema for structured output\n",
    "structured_llm = llm.with_structured_output(SearchQuery)\n",
    "\n",
    "# Invoke the augmented LLM\n",
    "output = structured_llm.invoke(\"What the hell is Soccer and why do some people call it Soccer and others Football?\")\n",
    "print(output.search_query)\n",
    "print(output.justification)"
   ]
  },
  {
   "cell_type": "code",
   "execution_count": 4,
   "id": "32eea9dc-f5c4-4cd9-a8af-1110f7d8863e",
   "metadata": {},
   "outputs": [
    {
     "data": {
      "text/plain": [
       "[{'name': 'multiply',\n",
       "  'args': {'x': 5, 'y': 8},\n",
       "  'id': 'call_yl2MyORyABBfmfKYX7qPkxu2',\n",
       "  'type': 'tool_call'}]"
      ]
     },
     "execution_count": 4,
     "metadata": {},
     "output_type": "execute_result"
    }
   ],
   "source": [
    "# Define a Tool\n",
    "def multiply(x: int, y: int) -> int:\n",
    "    \"\"\" The tool is used to multiply two numbers, x and y.\n",
    "    \"\"\"\n",
    "    return x * y\n",
    "\n",
    "# Augment the LLM with tools\n",
    "llm_with_tools = llm.bind_tools([multiply])\n",
    "\n",
    "msg = llm_with_tools.invoke(\"What is 5 times 8?\")\n",
    "\n",
    "# Get the tool calls\n",
    "msg.tool_calls"
   ]
  },
  {
   "cell_type": "markdown",
   "id": "85052bed-38cc-4d12-8960-006fd3a0076a",
   "metadata": {},
   "source": [
    "### Basic Prompt Chaining"
   ]
  },
  {
   "cell_type": "code",
   "execution_count": 5,
   "id": "bd010b2a-dc30-4a8a-a69a-3326be1dfd87",
   "metadata": {},
   "outputs": [],
   "source": [
    "from typing_extensions import TypedDict\n",
    "\n",
    "# Graph state\n",
    "class State(TypedDict):\n",
    "    topic: str\n",
    "    joke: str\n",
    "    improved_joke: str\n",
    "    final_joke: str"
   ]
  },
  {
   "cell_type": "code",
   "execution_count": 6,
   "id": "7961c379-9549-4107-834f-d0817c6a7fad",
   "metadata": {},
   "outputs": [],
   "source": [
    "# Nodes\n",
    "def generate_joke(state: State):\n",
    "    \"\"\"Generates the initial joke.\"\"\"\n",
    "    \n",
    "    msg = llm.invoke(f\"Generate a joke about: {state['topic']}\")\n",
    "    return {'joke': msg.content}\n",
    "\n",
    "def improve_joke(state: State):\n",
    "    \"\"\"Improves the joke.\"\"\"\n",
    "    \n",
    "    msg = llm.invoke(f\"Now make this joke funnier by adding a crying baby into the story: {state['joke']}\")\n",
    "    return {'improved_joke': msg.content}\n",
    "\n",
    "def polish_joke(state: State):\n",
    "    \"\"\"Final polishing of the joke\"\"\"\n",
    "\n",
    "    msg = llm.invoke(f\"Add a surprising twist to this joke: {state['improved_joke']}\")\n",
    "    return {'final_joke': msg.content}\n",
    "\n",
    "# Conditional edge function to check if the joke has a punchline\n",
    "def check_punchline(state: State):\n",
    "    \"\"\"Gate function to check if the joke has a punchline\"\"\"\n",
    "\n",
    "    if \"?\" in state['joke'] or \"!\" in state['joke']:\n",
    "        return \"Pass\" # custom \n",
    "    return \"Fail\""
   ]
  },
  {
   "cell_type": "code",
   "execution_count": 7,
   "id": "b44152ae-72f8-421b-b74b-1c588a0e04c9",
   "metadata": {},
   "outputs": [
    {
     "data": {
      "image/png": "[encoded data removed]",
      "text/plain": [
       "<IPython.core.display.Image object>"
      ]
     },
     "metadata": {},
     "output_type": "display_data"
    }
   ],
   "source": [
    "from langgraph.graph import StateGraph\n",
    "from IPython.display import Image, display\n",
    "\n",
    "# Build the workflow\n",
    "workflow = StateGraph(State)\n",
    "\n",
    "# Add nodes\n",
    "workflow.add_node(\"generate_joke\", generate_joke)\n",
    "workflow.add_node(\"improve_joke\", improve_joke)\n",
    "workflow.add_node(\"polish_joke\", polish_joke)\n",
    "\n",
    "# Add edges\n",
    "workflow.add_edge(\"__start__\", \"generate_joke\")\n",
    "workflow.add_edge(\"improve_joke\", \"polish_joke\")\n",
    "workflow.add_edge(\"polish_joke\", \"__end__\")\n",
    "\n",
    "workflow.add_conditional_edges(\n",
    "    \"generate_joke\", check_punchline, {\"Pass\": \"improve_joke\", \"Fail\": \"__end__\"}\n",
    ")\n",
    "\n",
    "# Compile\n",
    "chain = workflow.compile()\n",
    "\n",
    "# Show workflow\n",
    "display(Image(chain.get_graph().draw_mermaid_png()))"
   ]
  },
  {
   "cell_type": "code",
   "execution_count": 8,
   "id": "c2f0d4f6-8d2a-476a-b65b-84d017bbf553",
   "metadata": {},
   "outputs": [],
   "source": [
    "state = chain.invoke({'topic': \"sun\"})"
   ]
  },
  {
   "cell_type": "code",
   "execution_count": 9,
   "id": "a210423d-3167-47b0-9830-ec5834dd06d3",
   "metadata": {},
   "outputs": [
    {
     "data": {
      "text/plain": [
       "{'topic': 'sun',\n",
       " 'joke': 'Why did the sun go to school?\\n\\nBecause it wanted to get a little brighter!',\n",
       " 'improved_joke': 'Why did the sun go to school? \\n\\nBecause it wanted to get a little brighter! \\n\\nBut just as it was about to ace its first test, a crying baby whipped out a sun-shaped rattle and yelled, \"It\\'s too hot in here!\" The sun couldn\\'t help but feel dimmed by the competition for attention!',\n",
       " 'final_joke': 'Why did the sun go to school? \\n\\nBecause it wanted to get a little brighter! \\n\\nBut just as it was about to ace its first test, a crying baby whipped out a sun-shaped rattle and yelled, \"It\\'s too hot in here!\" To the sun\\'s shock, the baby\\'s rattle turned out to be a secret alien device that could control the weather. Suddenly, it began to snow in the classroom, and the sun thought, \"I didn’t sign up for a chilling experience!\" Just then, the teacher declared, \"Congratulations, class! You\\'ve just passed the coolest exam ever!\" The sun realized that sometimes, being outshined leads to unexpected fun!'}"
      ]
     },
     "execution_count": 9,
     "metadata": {},
     "output_type": "execute_result"
    }
   ],
   "source": [
    "state"
   ]
  },
  {
   "cell_type": "markdown",
   "id": "2ef11931-58cb-4740-9f6d-18e4b49306c2",
   "metadata": {},
   "source": [
    "### Parallelization"
   ]
  },
  {
   "cell_type": "code",
   "execution_count": 10,
   "id": "28797b60-885a-443c-801a-17bafd455a6c",
   "metadata": {},
   "outputs": [],
   "source": [
    "# Graph state\n",
    "class State(TypedDict):\n",
    "    topic: str\n",
    "    joke: str\n",
    "    story: str\n",
    "    poem: str\n",
    "    combined_output: str"
   ]
  },
  {
   "cell_type": "code",
   "execution_count": 11,
   "id": "f39b7958-3681-4874-8dbc-928330ef4575",
   "metadata": {},
   "outputs": [],
   "source": [
    "# Nodes\n",
    "def call_llm_1(state: State):\n",
    "    \"\"\"First LLM call to generate initial joke.\"\"\"\n",
    "\n",
    "    msg = llm.invoke(f\"Write a joke about: {state['topic']}\")\n",
    "    return {'joke': msg.content}\n",
    "\n",
    "def call_llm_2(state: State):\n",
    "    \"\"\"Second LLM call to generate story.\"\"\"\n",
    "\n",
    "    msg = llm.invoke(f\"Write a story about: {state['topic']}\")\n",
    "    return {'story': msg.content}\n",
    "\n",
    "def call_llm_3(state: State):\n",
    "    \"\"\"Third LLM call to generate poem.\"\"\"\n",
    "\n",
    "    msg = llm.invoke(f\"Write a poem about: {state['topic']}\")\n",
    "    return {'poem': msg.content}\n",
    "\n",
    "def aggregator(state: State):\n",
    "    \"\"\"Combine the joke, story, and a poem into a single output.\"\"\"\n",
    "\n",
    "    combined = f\"Here is a joke, a story, and a poem about {state['topic']}: \\n\\n\"\n",
    "    combined += f\"JOKE: {state['joke']}\\n\\n\"\n",
    "    combined += f\"STORY: {state['story']}\\n\\n\"\n",
    "    combined += f\"POEM: {state['poem']}\\n\\n\"\n",
    "    \n",
    "    return {'combined_output': combined}"
   ]
  },
  {
   "cell_type": "code",
   "execution_count": 12,
   "id": "3795f8a1-8a1a-493b-a39a-9f9673c65b2f",
   "metadata": {},
   "outputs": [
    {
     "data": {
      "image/png": "[encoded data removed]",
      "text/plain": [
       "<IPython.core.display.Image object>"
      ]
     },
     "metadata": {},
     "output_type": "display_data"
    }
   ],
   "source": [
    "# Build the workflow\n",
    "parallel_builder = StateGraph(State)\n",
    "\n",
    "# Add nodes\n",
    "parallel_builder.add_node(\"call_llm_1\", call_llm_1)\n",
    "parallel_builder.add_node(\"call_llm_2\", call_llm_2)\n",
    "parallel_builder.add_node(\"call_llm_3\", call_llm_3)\n",
    "\n",
    "parallel_builder.add_node(\"aggregator\", aggregator)\n",
    "\n",
    "# Add edges\n",
    "parallel_builder.add_edge(\"__start__\", \"call_llm_1\")\n",
    "parallel_builder.add_edge(\"__start__\", \"call_llm_2\")\n",
    "parallel_builder.add_edge(\"__start__\", \"call_llm_3\")\n",
    "parallel_builder.add_edge(\"call_llm_1\", \"aggregator\")\n",
    "parallel_builder.add_edge(\"call_llm_2\", \"aggregator\")\n",
    "parallel_builder.add_edge(\"call_llm_3\", \"aggregator\")\n",
    "parallel_builder.add_edge(\"aggregator\", \"__end__\")\n",
    "\n",
    "# Compile\n",
    "parallel_workflow = parallel_builder.compile()\n",
    "\n",
    "# Show workflow\n",
    "display(Image(parallel_workflow.get_graph().draw_mermaid_png()))"
   ]
  },
  {
   "cell_type": "code",
   "execution_count": 13,
   "id": "f1031ad0-b784-430c-86ae-19cfc205dee9",
   "metadata": {},
   "outputs": [],
   "source": [
    "out = parallel_workflow.invoke({'topic': 'moon'})"
   ]
  },
  {
   "cell_type": "code",
   "execution_count": 14,
   "id": "689dcc3f-e38a-4d58-9c32-ca133989ab17",
   "metadata": {},
   "outputs": [
    {
     "name": "stdout",
     "output_type": "stream",
     "text": [
      "Here is a joke, a story, and a poem about moon: \n",
      "\n",
      "JOKE: Why did the moon break up with the sun?\n",
      "\n",
      "Because it needed space! 🌒✨\n",
      "\n",
      "STORY: ### Beneath the Silver Glow\n",
      "\n",
      "Once upon a time, in a small village named Eldergrove, nestled in the heart of a vast forest, people lived simple, content lives. Among the villagers was a girl named Elara, known for her curious spirit and captivating tales about the world beyond the trees. Her favorite stories were about the moon, which she believed was a celestial guardian watching over them.\n",
      "\n",
      "Every night, Elara would climb the hill behind her house, a place where the thick canopy gave way to an unbroken sky, and there she would sit, whispering her dreams to the glowing moon. With its silver light spilling like water over the landscape, Elara felt an unbreakable connection to the mysterious orb above, a bond forged through countless nights of shared solitude and reflection.\n",
      "\n",
      "One evening, as she made her nightly ascent, Elara noticed something unusual. The moon seemed larger that night, its brilliance more intense. The light felt almost tangible, as if it were reaching out to her. Mesmerized, she closed her eyes, allowing its glow to envelop her. As she opened them moments later, she gasped in disbelief.\n",
      "\n",
      "Before her stood a figure, bathed in moonlight. It was a woman, ethereal and radiant, with a gown woven from starlight. Her hair flowed like silver rivers, and her eyes sparkled with the wisdom of the cosmos.\n",
      "\n",
      "“Elara,” the figure spoke, her voice soft like the rustle of leaves in a gentle breeze. “I am Lunara, the Keeper of the Moon.”\n",
      "\n",
      "Elara, her heart racing, took a step back. “What brings you here? Am I dreaming?”\n",
      "\n",
      "Lunara laughed, a sound like bells chiming in the night. “You are not dreaming, dear child. Your belief in the magic of the moon has summoned me. I have watched you, and I see within you a heart full of light and wonder.”\n",
      "\n",
      "The girl beamed at Lunara, her curiosity piqued. “Why did you choose to come to me?”\n",
      "\n",
      "“I seek a companion on a journey,” Lunara replied, her gaze turning contemplative. “The balance between our worlds is in peril. Shadows have begun to creep into the light, threatening the harmony that exists between the Earth and the heavens. I need someone with a pure spirit to help protect it.”\n",
      "\n",
      "Elara felt a thrill surge through her. “What must I do?”\n",
      "\n",
      "With a wave of her hand, Lunara conjured a shimmering path of light leading towards the moon. “Follow me. Together, we will restore the balance and chase away the shadows.”\n",
      "\n",
      "With a heart full of courage, Elara stepped onto the glowing path. As she ascended, she felt the air vibrate with energy, the stars swirling around her in a celestial dance. They arrived on the moon’s surface, a landscape of luminescent dust and towering silver mountains.\n",
      "\n",
      "The darkness that Lunara spoke of manifested as swirling shadows that ebbed and flowed like a tide of despair. “We must gather stardust from the Crystals of Light,” Lunara instructed, gesturing towards a distant mountain where celestial jewels glittered under the moon’s glow.\n",
      "\n",
      "Elara and Lunara raced towards the crystal mountain, weaving through whispers of shadow that darted in and out of sight. They reached the summit, collecting stardust that sparkled like diamonds in their hands. With each grain they gathered, they felt the warmth of hope replacing the cold fear that the shadows brought.\n",
      "\n",
      "As they descended, however, the shadows grew bolder. They wrapped around Elara, pulling her back, their chilling voices murmuring doubts and fears. “You are but a girl. You cannot defeat us,” they hissed.\n",
      "\n",
      "Drawing from the light within, Elara remembered the stories she had whispered to the moon, the dreams that shimmered like stardust in her heart. She felt the power of choice, of belief, and suddenly shouted, “I believe in the light! I believe in hope!”\n",
      "\n",
      "Lunara smiled, her own form glowing brighter. “Your spirit is stronger than you know, Elara! Let us shine together!”\n",
      "\n",
      "As they united their light, a brilliant flash erupted, dispelling the shadows like mist before the morning sun. The dark whispers faded, replaced by a chorus of laughter from the stars. \n",
      "\n",
      "Together, Lunara and Elara filled the night with hope and joy, creating a shimmering barrier that protected the harmony between worlds. The moon, radiant and proud, watched over them.\n",
      "\n",
      "When the journey was done, Lunara turned to Elara. “You have shown great bravery, dear one. The balance is restored, but remember, you will always carry the heart of the moon within you.”\n",
      "\n",
      "With a final embrace, Lunara faded back into the celestial glow, and Elara found herself once more atop the hill in Eldergrove. The moon hung high, unchanged yet somehow more vibrant than before.\n",
      "\n",
      "From that night on, Elara shared her tales not just with the moon, but with her village, inspiring others to look up and believe in the magic of the night sky. And as they listened, she knew, deep within her heart, that the silver glow of the moon would forever guide their dreams.\n",
      "\n",
      "POEM: In the velvet cloak of night,  \n",
      "A silver orb begins its flight,  \n",
      "Fashioned by the dark's embrace,  \n",
      "The moon ascends, a timeless grace.  \n",
      "\n",
      "Whispers of ancient tales unfurl,  \n",
      "As starlight dangles, diamonds swirl,  \n",
      "A guardian of dreams and fears,  \n",
      "She bathes the world in silken tears.  \n",
      "\n",
      "Her glow, a soft and tender kiss,  \n",
      "Transforms the shadows into bliss,  \n",
      "Upon the sea, in ripples bright,  \n",
      "She dances with the waves' delight.  \n",
      "\n",
      "In quiet moments, lovers sigh,  \n",
      "Beneath her watchful, patient eye,  \n",
      "With every phase, a story spun,  \n",
      "From crescent light to setting sun.  \n",
      "\n",
      "The wisdom of the night she keeps,  \n",
      "In lunar cycles, secrets seep,  \n",
      "And though she wanes, she always returns,  \n",
      "A promise of hope that forever burns.  \n",
      "\n",
      "So let us gaze upon her face,  \n",
      "In awe of all her subtle grace,  \n",
      "For in her glow, we find our way,  \n",
      "A guiding light, come what may.  \n",
      "\n",
      "\n"
     ]
    }
   ],
   "source": [
    "print(out['combined_output'])"
   ]
  },
  {
   "cell_type": "markdown",
   "id": "2e7e3fb8-83e5-405e-befe-6b8aaac39148",
   "metadata": {},
   "source": [
    "### Routing"
   ]
  },
  {
   "cell_type": "code",
   "execution_count": 15,
   "id": "75b4177c-c680-4fb2-826e-83129c7ae951",
   "metadata": {},
   "outputs": [],
   "source": [
    "from typing_extensions import Literal, Optional\n",
    "\n",
    "# Schema for structured output to use as routing logic\n",
    "class Route(BaseModel):\n",
    "    step: Optional[Literal[\"poem\", \"story\", \"joke\"]] = Field(None, description=\"The next step in the routing process.\")\n",
    "\n",
    "# Augment the LLM with schema above for structured output\n",
    "router = llm.with_structured_output(Route)"
   ]
  },
  {
   "cell_type": "code",
   "execution_count": 16,
   "id": "d7df1eaa-d816-415b-bb5d-266c599d8c62",
   "metadata": {},
   "outputs": [],
   "source": [
    "# State\n",
    "class State(TypedDict):\n",
    "    input: str\n",
    "    decision: str\n",
    "    output: str"
   ]
  },
  {
   "cell_type": "code",
   "execution_count": 17,
   "id": "f8d30bbc-5405-45d9-88b7-0b11feff2db5",
   "metadata": {},
   "outputs": [],
   "source": [
    "from langchain_core.messages import HumanMessage, SystemMessage\n",
    "\n",
    "# Nodes\n",
    "def llm_call_1(state: State):\n",
    "    \"\"\"Write a story.\"\"\"\n",
    "\n",
    "    result = llm.invoke(state['input'])\n",
    "    return {'output': result.content}\n",
    "\n",
    "def llm_call_2(state: State):\n",
    "    \"\"\"Write a joke.\"\"\"\n",
    "\n",
    "    result = llm.invoke(state['input'])\n",
    "    return {'output': result.content}\n",
    "\n",
    "def llm_call_3(state: State):\n",
    "    \"\"\"Write a poem.\"\"\"\n",
    "\n",
    "    result = llm.invoke(state['input'])\n",
    "    return {'output': result.content}\n",
    "\n",
    "def llm_call_router(state: State):\n",
    "    \"\"\"Route the input to the appropriate node\"\"\"\n",
    "\n",
    "    # Run the augmented LLM with structured output to serve as routing logic\n",
    "    decision = router.invoke(\n",
    "        [\n",
    "            SystemMessage(\n",
    "                content=\"Route the input to story, joke, or poem based on the user's request.\"\n",
    "            ),\n",
    "            HumanMessage(\n",
    "                content=state['input']\n",
    "            )\n",
    "        ]\n",
    "    )\n",
    "    return {'decision': decision.step}\n",
    "\n",
    "# Conditioinal edge function to route to the appropriate node\n",
    "def route_decision(state: State):\n",
    "    # Return the route name you want to go \n",
    "    if state['decision'] == 'story':\n",
    "        return \"llm_call_1\"\n",
    "    if state['decision'] == 'joke':\n",
    "        return \"llm_call_2\"\n",
    "    if state['decision'] == 'poem':\n",
    "        return \"llm_call_3\""
   ]
  },
  {
   "cell_type": "code",
   "execution_count": 18,
   "id": "1ec3f8d0-df61-445f-a640-a72ccfc1c2f3",
   "metadata": {},
   "outputs": [
    {
     "data": {
      "image/png": "[encoded data removed]",
      "text/plain": [
       "<IPython.core.display.Image object>"
      ]
     },
     "metadata": {},
     "output_type": "display_data"
    }
   ],
   "source": [
    "# Build the workflow\n",
    "router_builder = StateGraph(State)\n",
    "\n",
    "# Add nodes\n",
    "router_builder.add_node(\"llm_call_router\", llm_call_router)\n",
    "router_builder.add_node(\"llm_call_1\", llm_call_1)\n",
    "router_builder.add_node(\"llm_call_2\", llm_call_2)\n",
    "router_builder.add_node(\"llm_call_3\", llm_call_3)\n",
    "\n",
    "# Add edges\n",
    "router_builder.add_edge(\"__start__\", \"llm_call_router\")\n",
    "router_builder.add_conditional_edges(\n",
    "    \"llm_call_router\", route_decision, {\"llm_call_1\": \"llm_call_1\", \"llm_call_2\": \"llm_call_2\", \"llm_call_3\": \"llm_call_3\"})\n",
    "router_builder.add_edge(\"llm_call_1\", \"__end__\")\n",
    "router_builder.add_edge(\"llm_call_2\", \"__end__\")\n",
    "router_builder.add_edge(\"llm_call_3\", \"__end__\")\n",
    "\n",
    "# Compile\n",
    "router_workflow = router_builder.compile()\n",
    "\n",
    "# Show workflow\n",
    "display(Image(router_workflow.get_graph().draw_mermaid_png()))"
   ]
  },
  {
   "cell_type": "code",
   "execution_count": 19,
   "id": "794a62a3-75d1-49d7-8f27-a1e34b113cf9",
   "metadata": {},
   "outputs": [],
   "source": [
    "out = router_workflow.invoke({'input': \"generate a joke about jupyter\"})"
   ]
  },
  {
   "cell_type": "code",
   "execution_count": 20,
   "id": "5fe910c3-c50a-466d-8052-598e9a3e2750",
   "metadata": {},
   "outputs": [
    {
     "data": {
      "text/plain": [
       "'Why did the Jupyter notebook break up with the text editor?\\n\\nBecause it found someone who could give it more cells!'"
      ]
     },
     "execution_count": 20,
     "metadata": {},
     "output_type": "execute_result"
    }
   ],
   "source": [
    "out['output']"
   ]
  },
  {
   "cell_type": "markdown",
   "id": "93ad80eb-d295-4f02-8701-151016c9a761",
   "metadata": {},
   "source": [
    "### Orchestrator Worker"
   ]
  },
  {
   "cell_type": "code",
   "execution_count": 21,
   "id": "e952b341-e8d6-42a1-b5a2-621dbd0e52a9",
   "metadata": {},
   "outputs": [
    {
     "name": "stderr",
     "output_type": "stream",
     "text": [
      "/opt/homebrew/Cellar/jupyterlab/4.4.0/libexec/lib/python3.13/site-packages/pydantic/json_schema.py:2324: PydanticJsonSchemaWarning: Default value (FieldInfo(annotation=NoneType, required=True, description='Name for this section of report.'),) is not JSON serializable; excluding default from JSON schema [non-serializable-default]\n",
      "  warnings.warn(message, PydanticJsonSchemaWarning)\n"
     ]
    }
   ],
   "source": [
    "from typing import Annotated, List\n",
    "import operator\n",
    "\n",
    "# Schema for structured outputs to use in planning\n",
    "class Section(BaseModel):\n",
    "    name: str = Field(description=\"Name for this section of report.\"),\n",
    "    description: str = Field(description=\"Brief overview of the main topics and concepts to be covered in this section.\")\n",
    "\n",
    "class Sections(BaseModel):\n",
    "    sections: List[Section] = Field(description=\"Sections of the report.\")\n",
    "\n",
    "# Augment the LLM with schema for structured output\n",
    "planner = llm.with_structured_output(Sections)"
   ]
  },
  {
   "cell_type": "code",
   "execution_count": 22,
   "id": "533d1e42-cfb4-464d-a203-6e979a3ee0b9",
   "metadata": {},
   "outputs": [],
   "source": [
    "# Graph state\n",
    "class State(TypedDict):\n",
    "    topic: str\n",
    "    sections: list[Section]\n",
    "    completed_sections: Annotated[\n",
    "        list, operator.add\n",
    "    ]\n",
    "    final_report: str\n",
    "\n",
    "# Worker state\n",
    "class WorkerState(TypedDict):\n",
    "    section: Section\n",
    "    completed_sections: Annotated[list, operator.add]"
   ]
  },
  {
   "cell_type": "code",
   "execution_count": 23,
   "id": "c7a0a338-d176-4137-9abe-1313fcd3ad5e",
   "metadata": {},
   "outputs": [],
   "source": [
    "# Nodes\n",
    "def orchestrator(state: State):\n",
    "    \"\"\"Orchestrator that generates a plan for the report\"\"\"\n",
    "\n",
    "    # Generate queries\n",
    "    report_sections = planner.invoke(\n",
    "        [\n",
    "            SystemMessage(content=\"Generate a plan for the report.\"),\n",
    "            HumanMessage(content=f\"Here is the report topic: {state['topic']}.\")\n",
    "        ]\n",
    "    )\n",
    "\n",
    "    return {\"sections\": report_sections.sections}\n",
    "\n",
    "\n",
    "def llm_call(state: WorkerState):\n",
    "    \"\"\"Worker writes a section of the report\"\"\"\n",
    "\n",
    "    # Generate sectio\n",
    "    section = llm.invoke(\n",
    "        [\n",
    "            SystemMessage(content=\"Write a report section.\"),\n",
    "            HumanMessage(content=f\"Here is the section name: {state['section'].name} and its description: {state['section'].description}\")\n",
    "        ]\n",
    "    )\n",
    "\n",
    "    # Write the updated section to completed sections\n",
    "    return {\"completed_sections\": [section.content]}\n",
    "\n",
    "\n",
    "def synthesizer(state: State):\n",
    "    \"\"\"Synthesize full report from sections.\"\"\"\n",
    "\n",
    "    # List of all completed sections\n",
    "    completed_sections = state['completed_sections']\n",
    "\n",
    "    # Format completed section to str to use as context for final sections\n",
    "    completed_report_sections = \"\\n\\n----\\n\\n\".join(completed_sections)\n",
    "\n",
    "    return {\"final_report\": completed_report_sections}\n",
    "\n",
    "\n",
    "# Conditional edge function to create llm_call workers that each write a section for the report\n",
    "def assign_workers(state: State):\n",
    "    \"\"\"Assign a worker to each section in the plan\"\"\"\n",
    "\n",
    "    # Kick off section writing in parallel via Send() API\n",
    "    return [Send(\"llm_call\", {\"section\": s}) for s in state[\"sections\"]]"
   ]
  },
  {
   "cell_type": "code",
   "execution_count": 24,
   "id": "cb1f1c98-0097-433b-9b3f-8629a5fec1bb",
   "metadata": {},
   "outputs": [
    {
     "data": {
      "image/png": "[encoded data removed]",
      "text/plain": [
       "<IPython.core.display.Image object>"
      ]
     },
     "metadata": {},
     "output_type": "display_data"
    }
   ],
   "source": [
    "from langgraph.constants import Send\n",
    "\n",
    "# Build workflow\n",
    "orchestrator_worker_builder = StateGraph(State)\n",
    "\n",
    "# Nodes\n",
    "orchestrator_worker_builder.add_node(\"synthesizer\", synthesizer)\n",
    "orchestrator_worker_builder.add_node(\"llm_call\", llm_call)\n",
    "orchestrator_worker_builder.add_node(\"orchestrator\", orchestrator)\n",
    "\n",
    "# Edges\n",
    "orchestrator_worker_builder.add_edge(\"__start__\", \"orchestrator\")\n",
    "orchestrator_worker_builder.add_conditional_edges(\n",
    "    \"orchestrator\", assign_workers, [\"llm_call\"]\n",
    "\n",
    ")\n",
    "orchestrator_worker_builder.add_edge(\"llm_call\", \"synthesizer\")\n",
    "orchestrator_worker_builder.add_edge(\"synthesizer\", \"__end__\")\n",
    "\n",
    "# Compile\n",
    "orchestrator_worker = orchestrator_worker_builder.compile()\n",
    "\n",
    "# Show the workflow\n",
    "display(Image(orchestrator_worker.get_graph().draw_mermaid_png()))"
   ]
  },
  {
   "cell_type": "code",
   "execution_count": 25,
   "id": "de77d286-29ef-4326-b5b6-6c987aba0162",
   "metadata": {},
   "outputs": [
    {
     "name": "stderr",
     "output_type": "stream",
     "text": [
      "/opt/homebrew/Cellar/jupyterlab/4.4.0/libexec/lib/python3.13/site-packages/pydantic/json_schema.py:2324: PydanticJsonSchemaWarning: Default value (FieldInfo(annotation=NoneType, required=True, description='Name for this section of report.'),) is not JSON serializable; excluding default from JSON schema [non-serializable-default]\n",
      "  warnings.warn(message, PydanticJsonSchemaWarning)\n"
     ]
    }
   ],
   "source": [
    "state = orchestrator_worker.invoke({\"topic\": \"in depth analysis of red ants\"})"
   ]
  },
  {
   "cell_type": "code",
   "execution_count": 26,
   "id": "044bc289-498e-4017-86ab-7e8583f0f2c2",
   "metadata": {},
   "outputs": [
    {
     "data": {
      "text/markdown": [
       "### Introduction to Red Ants\n",
       "\n",
       "Red ants, belonging to the subfamily Formicinae, are a diverse group of social insects known for their striking coloration and complex behaviors. They are classified under the family Formicidae, which encompasses all ants, with the genus Solenopsis being one of the most well-recognized among red ant species. Commonly, when referring to red ants, one might think of the notorious red imported fire ant (Solenopsis invicta), but other species exhibit similar reddish hues and social structures.\n",
       "\n",
       "**Classification**\n",
       "\n",
       "The classification of red ants begins at the domain level, with these insects belonging to the Animalia kingdom, characterized as multicellular organisms that are heterotrophic and capable of movement. Moving down the taxonomic hierarchy, they fall under the phylum Arthropoda, which encompasses invertebrates with exoskeletons, segmented bodies, and jointed appendages. They belong to the class Insecta, order Hymenoptera—which also includes bees and wasps—and, ultimately, the subfamily Formicinae, which is filled with a variety of socially complex ant species.\n",
       "\n",
       "**Habitats**\n",
       "\n",
       "Red ants are adaptable and can thrive in a variety of habitats. They are commonly found in warm, temperate regions, often in soil, decaying wood, or beneath stones. These ants prefer environments that provide sufficient foraging opportunities, such as forests, grasslands, and urban areas. Their nests are typically constructed underground or in decaying wood, where they create an intricate system of tunnels and chambers. These nests serve as both a sanctuary and a hive for their colony, housing the queen, workers, and larvae.\n",
       "\n",
       "**General Characteristics**\n",
       "\n",
       "Red ants are notable for their distinctive bright red to brown coloration, which serves as a warning signal to potential predators due to their aggressive behavior and painful sting. Their body structure typically includes a well-defined waist, compound eyes, and long antennae which are crucial for communication and navigation. As social insects, red ants exhibit strong cooperative behaviors within their colonies, including foraging, nest maintenance, and brood care.\n",
       "\n",
       "In terms of behavior, red ants are known for their defensive and aggressive tendencies when their nests are threatened. This makes them significant both ecologically and economically, as they can impact local ecosystems and occasionally disrupt human activities through their aggressive nature and tendency to swarm. Additionally, their role as scavengers and predators helps maintain the balance within their ecosystems.\n",
       "\n",
       "Overall, understanding red ants—through their classification, habitats, and characteristics—provides insight not only into their biological attributes but also into their ecological roles and interactions with humans.\n",
       "\n",
       "----\n",
       "\n",
       "### Biology and Physiology\n",
       "\n",
       "Red ants, belonging primarily to the genus **Formica** and **Solenopsis**, are fascinating creatures that exhibit a range of complex biological and physiological traits. Understanding these aspects is crucial for appreciating their role in ecosystems, their behavior, and their interactions with the environment.\n",
       "\n",
       "#### Anatomy\n",
       "\n",
       "The anatomy of red ants is distinctly adapted for their survival and social lifestyle. Adult ants have a three-part body segmented into the head, thorax, and abdomen. The head houses the mandibles, which are powerful pincers used for foraging, defense, and carrying objects. Their compound eyes provide a wide field of vision, while the antennae serve as vital sensory organs, facilitating communication and environmental interaction.\n",
       "\n",
       "Red ants possess a well-developed exoskeleton made of chitin, which provides structural support and protection from predators. A notable feature is their sting, produced by a specialized structure called the ovipositor in female ants, which is utilized for defense and subduing prey. \n",
       "\n",
       "Internally, red ants have an intricate system comprising a dorsal blood vessel functioning as a heart, a simple yet effective digestive system, and a network of tracheae that facilitate respiration. Their physiology is adapted to support their active lifestyle, exhibiting a high metabolic rate that corresponds to their energetic requirements.\n",
       "\n",
       "#### Lifecycle\n",
       "\n",
       "The lifecycle of red ants follows a complete metamorphosis, consisting of four primary stages: egg, larva, pupa, and adult. The reproductive cycle begins with the queen, who is primarily responsible for reproduction within the colony. After mating during nuptial flights, the queen stores sperm and can fertilize eggs as needed throughout her life.\n",
       "\n",
       "Eggs are initially laid in the colony and develop into larvae, which are fed and cared for by worker ants. Larvae undergo several instars before entering the pupal stage, where they undergo significant morphological changes. The duration of each stage can vary significantly based on environmental conditions, colony size, and species.\n",
       "\n",
       "Once the adults emerge, their roles within the colony are defined by social structure, often categorizing them into castes such as workers, soldiers, and reproductive individuals. Worker ants are responsible for foraging, nest maintenance, and caring for the young, while soldiers provide defense against threats.\n",
       "\n",
       "#### Reproductive Habits\n",
       "\n",
       "The reproductive habits of red ants are characterized by complex social behaviors and seasonal patterns. Mating typically occurs during a specific time of year, often triggered by environmental cues such as temperature and humidity. Males are short-lived, generally dying shortly after mating, while queens can live for years, sustaining the colony across multiple generations.\n",
       "\n",
       "After a queen has mated and established her colony, she begins to lay eggs in cycles, producing a significant number of offspring that can lead to rapid population growth under optimal conditions. The timing and success of reproduction are crucial for ensuring the survival of the colony, as it directly influences the colony's ability to compete for resources and defend against predators.\n",
       "\n",
       "In summary, the biology and physiology of red ants offer an intricate view into their adaptive strategies and social structure. Through their specialized anatomy, distinct lifecycle stages, and sophisticated reproductive habits, red ants exemplify the complexities of communal living in the insect world. Understanding these elements is pivotal for ecological studies and pest management strategies concerning these industrious ants.\n",
       "\n",
       "----\n",
       "\n",
       "### Behavioral Patterns of Red Ants\n",
       "\n",
       "Red ants, specifically those belonging to the genus *Solenopsis*, exhibit a variety of intricate behaviors that contribute to their survival and effectiveness as social insects. This section analyzes their foraging habits, nesting behaviors, social structures, and communication methods, providing insight into the complex dynamics of their colonies.\n",
       "\n",
       "#### Foraging Behavior\n",
       "\n",
       "Foraging is a critical activity for red ants, allowing them to locate and transport food back to their nests. These ants display a remarkable ability to collaborate during foraging, employing both individual and collective strategies. Typically, scouts venture out from the nest to search for food sources, which include insects, seeds, and organic debris. Once they locate food, scouts deposit pheromones to create a chemical trail, guiding other foragers to the resource. This collective foraging strategy maximizes efficiency and ensures that resources are rapidly utilized.\n",
       "\n",
       "#### Nesting Habits\n",
       "\n",
       "Red ants construct nests that can vary significantly in sophistication, depending on environmental conditions. These nests may be built underground, in rotting wood, or in other sheltered locations. The construction involves recruiting worker ants who work cooperatively to dig, transport materials, and defend the nest. Nest architecture often reflects the species' adaptation to its habitat, with some species exhibiting more elaborate structures to regulate temperature and humidity. The maintenance of nests is a continuous activity, as the colony works together to repair and expand their living space.\n",
       "\n",
       "#### Social Structure\n",
       "\n",
       "The social structure of red ant colonies is highly organized, typically centered around a queen, worker ants, and, during reproductive seasons, male ants. The queen's primary function is reproduction, while worker ants undertake various tasks such as foraging, nest-building, and brood care. The division of labor is flexible; workers can switch roles based on the colony's needs. This dynamic social structure enhances the colony’s resilience and efficiency, allowing it to respond to environmental changes and threats more effectively.\n",
       "\n",
       "#### Communication Methods\n",
       "\n",
       "Communication among red ants is predominantly chemical, utilizing pheromones to convey information regarding food availability, alarm signals, and reproductive status. These chemical signals enable the ants to coordinate activities such as foraging, nest defense, and the rearing of young. In addition to pheromones, red ants may also engage in tactile communication through physical contact and the use of their antennae, which help in recognizing nestmates and territory. Acoustic signals, while less common, have also been observed in some species in the context of alarm and mating.\n",
       "\n",
       "### Conclusion\n",
       "\n",
       "The behavioral patterns of red ants illustrate a highly adaptive and cooperative society, optimized for survival and efficiency. Their foraging strategies, nesting habits, social organization, and communication methods highlight the complexity of their interactions and their ability to thrive in diverse environments. Understanding these behaviors is vital for researchers studying ecological dynamics and the evolutionary success of social insects.\n",
       "\n",
       "----\n",
       "\n",
       "### Ecological Role of Red Ants\n",
       "\n",
       "Red ants, primarily belonging to the genus *Solenopsis*, play a significant role in various ecosystems, contributing to ecological balance and integrity. Their ecological importance can be observed through multiple facets including soil aeration, nutrient cycling, pest control, and their interactions with other species, both as competitors and as mutualistic partners.\n",
       "\n",
       "#### Soil Aeration and Nutrient Cycling\n",
       "\n",
       "One of the most critical functions of red ants in the ecosystem is their ability to aerate the soil. Through their nesting and foraging activities, red ants help to create a network of tunnels that improve soil structure. This aeration enhances water infiltration and root penetration, ultimately benefiting plant growth. As red ants transport organic materials, including dead insects and plant matter, to their nests, they contribute to nutrient cycling by decomposing these materials. The presence of red ants can increase the availability of nutrients in the soil, fostering a more fertile habitat for various plant species.\n",
       "\n",
       "#### Pest Control\n",
       "\n",
       "Red ants also play a vital role in pest control within their habitats. They are known predators of various insect species, including pests that can be detrimental to agricultural crops. By naturally regulating pest populations, red ants contribute to a healthier environment that facilitates biodiversity. However, it is important to note that their predatory behavior can also lead to competitive exclusion and population declines in certain insect species, highlighting the duality of their ecological role.\n",
       "\n",
       "#### Interactions with Other Species\n",
       "\n",
       "Red ants exhibit complex interactions with numerous species, forming both competitive and symbiotic relationships. They compete with other ant species for resources, which can influence community structure and species composition within their habitats. In mutualistic relationships, red ants are known to care for aphids, protecting them from predators in exchange for honeydew— a sugary secretion produced by aphids. This interaction not only supports the survival of aphids but also enhances food resources for red ants, demonstrating the intricate web of relationships that define the ecosystem.\n",
       "\n",
       "Additionally, red ants serve as prey for various vertebrates, including birds and small mammals, positioning them as an integral part of the food web. By providing a food source for these predators, red ants help to sustain other populations within their ecosystem.\n",
       "\n",
       "#### Conclusion\n",
       "\n",
       "In summary, red ants fulfill numerous essential functions within their ecosystems. Their activities contribute to soil health, pest regulation, and a dynamic network of species interactions. Understanding the ecological role of red ants is crucial for appreciating the complexity of their environments and the overarching significance of biodiversity. Further research into their behavior and ecological impacts will continue to illuminate their importance in maintaining ecosystem resilience and integrity.\n",
       "\n",
       "----\n",
       "\n",
       "### Impact on Humans\n",
       "\n",
       "Red ants, specifically species such as the Red Imported Fire Ant (Solenopsis invicta) and other various forms of red ants, have a significant impact on human activities, particularly in the realms of agriculture, pest control, and health risks associated with their stings.\n",
       "\n",
       "#### Agriculture\n",
       "\n",
       "Red ants can have both beneficial and detrimental effects on agriculture. On one hand, certain species contribute to soil aeration and the decomposition of organic matter, which can enhance soil fertility. Their predatory behavior can also provide a degree of biological pest control by feeding on various agricultural pests. This natural pest-management service can be particularly valuable in reducing agricultural losses and minimizing chemical pesticide use.\n",
       "\n",
       "Conversely, red ants can become pests themselves, damaging crops and disrupting farming practices. They often invade agricultural lands in search of food, particularly when they are attracted to spilled grains or sugary substances. Their nests can compromise the quality of the land, leading to challenges in planting and harvesting. In some cases, red ants may even target seedlings and young plants, creating economic losses for farmers.\n",
       "\n",
       "#### Pest Control\n",
       "\n",
       "In the realm of pest control, red ants have been both allies and adversaries. Their predation on herbivorous insects can be seen as beneficial; however, their presence can disrupt local ecosystems if they become invasive. For instance, the Red Imported Fire Ant has established populations in various regions outside their native range, often outcompeting local species for resources and altering the ecological balance. This invasive behavior may lead to a decrease in biodiversity and negatively impact local agricultural practices.\n",
       "\n",
       "While some farmers may experiment with using red ants as a natural pest management tool, this approach must be undertaken carefully to weigh the potential for adverse ecological impacts.\n",
       "\n",
       "#### Health Risks from Stings\n",
       "\n",
       "One of the most concerning aspects of red ants, particularly fire ants, is their potent sting. Their bites and stings can cause significant pain, characterized by a burning sensation and the development of itchy welts. For many, especially those with allergies to their venom, stings can result in severe reactions, including anaphylaxis, which can be life-threatening without prompt medical intervention. This health risk makes the containment and management of red ant populations essential, particularly in areas where human activities intersect with their habitats.\n",
       "\n",
       "In urban environments, the risk of encountering red ants increases as their populations expand. This poses challenges for public health and safety, driving the need for effective pest control measures. Communities must prioritize education and awareness to help individuals recognize these insects and understand the precautions necessary to avoid stings.\n",
       "\n",
       "#### Conclusion\n",
       "\n",
       "Overall, red ants present a dual-edged sword for human activities. While they can offer ecological benefits, their potential for agricultural disruption, their role as invasive species, and the health risks associated with their stings necessitate a careful evaluation of their impact. As humans continue to interact with these resilient insects, a balanced approach will be crucial in harnessing their benefits while mitigating the risks they pose.\n",
       "\n",
       "----\n",
       "\n",
       "### Research and Findings\n",
       "\n",
       "The study of red ant species, particularly those within the genera Solenopsis and Myrmica, has garnered significant attention in the last few years, leading to advancements in our understanding of their behavior, ecology, and potential applications in agriculture and pest control. Recent research has elucidated various aspects of these insects, revealing crucial insights into their social structures, foraging strategies, and interactions with their environment.\n",
       "\n",
       "#### Key Discoveries\n",
       "\n",
       "1. **Social Structure and Division of Labor**:\n",
       "   Recent studies have provided deeper insights into the complex social hierarchies within colonies of red ants. Researchers found that S. invicta (red imported fire ant) colonies exhibit a highly efficient division of labor, enabling them to adapt quickly to environmental changes. Genetic analyses have shown that specific castes within the colony, such as workers and soldiers, possess distinct genetic traits that enhance their survival and reproductive success.\n",
       "\n",
       "2. **Foraging Behavior**:\n",
       "   Studies published in the Journal of Insect Behavior highlighted the sophisticated foraging strategies employed by red ants. For instance, experiments demonstrated that these ants utilize a combination of pheromone trails and visual cues to optimize their foraging efficiency. A notable finding was the identification of a feedback loop in foraging success, where successful foraging led to increased pheromone release, thereby attracting more workers to fruitful foraging sites.\n",
       "\n",
       "3. **Ecological Impact**:\n",
       "   Ongoing research has drawn connections between red ant populations and their ecological roles, particularly in soil aeration and seed dispersal. A 2023 study in Ecological Entomology documented the positive impact of red ants on soil health, indicating that their tunneling activities not only improve soil structure but also contribute to nutrient cycling.\n",
       "\n",
       "4. **Interactions with Other Species**:\n",
       "   Investigations into the interspecific interactions revealed that red ants often engage in mutualistic relationships, particularly with aphids. Recent findings indicated that these ants protect aphid colonies from predators in exchange for honeydew, which highlights the intricate balance within ecosystems and the potential for red ants to influence agricultural pest dynamics.\n",
       "\n",
       "5. **Pest Control Potential**:\n",
       "   As pest management becomes increasingly important, research has focused on utilizing red ants in biological control programs. Several studies have demonstrated that red ants can effectively suppress certain agricultural pests without the use of chemical pesticides. This approach not only promotes sustainable agricultural practices but also minimizes potential environmental harm.\n",
       "\n",
       "#### Ongoing Research\n",
       "\n",
       "Currently, investigations are underway to explore the genetic diversity of red ant populations to understand their resilience to environmental stressors. Researchers are employing advanced genomic techniques to examine how gene expression in red ants changes in response to climate fluctuations.\n",
       "\n",
       "Additionally, behavioral ecologists are studying the impact of urbanization on red ant colonies, particularly how altered habitats influence their foraging and nesting behaviors. The implications of these findings could lead to better management practices in urban environments.\n",
       "\n",
       "As the body of research surrounding red ants grows, it opens new avenues for applied science, providing crucial understanding that can be leveraged in ecological conservation, pest management, and the enhancement of agricultural productivity. Continued exploration in this field promises to yield further significant contributions to both entomology and ecological science.\n",
       "\n",
       "----\n",
       "\n",
       "## Conclusion and Future Outlook\n",
       "\n",
       "In summary, red ants play a pivotal role in both ecological systems and human society. Their presence is critical for maintaining the balance within ecosystems, acting as key contributors to soil aeration, seed dispersal, and pest control. These small yet formidable insects illustrate the intricate interdependencies within their habitats, influencing the abundance and diversity of other species through their foraging and nesting behavior.\n",
       "\n",
       "The significance of red ants extends beyond ecological contributions; they are also of considerable interest to various sectors, including agriculture, medicine, and even technology. For instance, research into their social behaviors and communication strategies has inspired advancements in algorithms for swarm intelligence, which can be applied to robotics and artificial intelligence. Moreover, their resilience and adaptability to changing environments present crucial insights for studying climate change and developing sustainable agricultural practices.\n",
       "\n",
       "Looking forward, several research directions offer promising opportunities to deepen our understanding of red ants and their multifaceted roles. Firstly, interdisciplinary studies combining ecological research with technological applications could yield innovative solutions to environmental challenges. Investigating the interactions between red ants and invasive species, for instance, could provide insights into biological control methods to mitigate their impacts.\n",
       "\n",
       "Additionally, long-term ecological monitoring of red ant populations could help assess the effects of climate change and habitat loss on biodiversity. Such studies could inform conservation strategies aimed at preserving not only red ants but also the ecosystems they support. Furthermore, exploring the social structure and communication mechanisms of red ants via sophisticated imaging and molecular techniques could uncover valuable lessons applicable in various fields, from sociology to computer science.\n",
       "\n",
       "In conclusion, red ants are not merely fascinators of the natural world; they are integral components of ecosystems and bear significant implications for human society. As research expands, it is essential to advocate for their conservation and integrate their study into broader ecological and technological frameworks. Such efforts will not only enrich our comprehension of biodiversity but will also foster sustainable practices that could benefit both nature and humankind."
      ],
      "text/plain": [
       "<IPython.core.display.Markdown object>"
      ]
     },
     "execution_count": 26,
     "metadata": {},
     "output_type": "execute_result"
    }
   ],
   "source": [
    "from IPython.display import Markdown\n",
    "\n",
    "Markdown(state[\"final_report\"])"
   ]
  },
  {
   "cell_type": "markdown",
   "id": "6fb06456-c3b6-4b85-8687-fcfd349ee438",
   "metadata": {},
   "source": [
    "### Evaluator Optimizer"
   ]
  },
  {
   "cell_type": "code",
   "execution_count": 27,
   "id": "b5f21b62-0906-420e-8ff1-a9601edfdae6",
   "metadata": {},
   "outputs": [
    {
     "name": "stderr",
     "output_type": "stream",
     "text": [
      "/opt/homebrew/Cellar/jupyterlab/4.4.0/libexec/lib/python3.13/site-packages/pydantic/json_schema.py:2324: PydanticJsonSchemaWarning: Default value (FieldInfo(annotation=NoneType, required=False, default=None, description='Decide if the joke is funny or not.'),) is not JSON serializable; excluding default from JSON schema [non-serializable-default]\n",
      "  warnings.warn(message, PydanticJsonSchemaWarning)\n"
     ]
    }
   ],
   "source": [
    "# Schema for structured output to use in evaluation\n",
    "class Feedback(BaseModel):\n",
    "    grade: Optional[Literal[\"funny\", \"not funny\"]] = Field(default=None, description=\"Decide if the joke is funny or not.\"),\n",
    "    feedback: Optional[str] = Field(default=None, description=\"If the joke is not funny, provide feedback on how to improve it.\")\n",
    "\n",
    "# Augment the LLM with schema for structured output\n",
    "evaluator = llm.with_structured_output(Feedback)"
   ]
  },
  {
   "cell_type": "code",
   "execution_count": 28,
   "id": "cce592fd-74f4-4739-9fa5-6019b55a3768",
   "metadata": {},
   "outputs": [],
   "source": [
    "# Graph state\n",
    "class State(TypedDict):\n",
    "    joke: str\n",
    "    topic: str\n",
    "    feedback: str\n",
    "    funny_or_not: str"
   ]
  },
  {
   "cell_type": "code",
   "execution_count": 29,
   "id": "6be88592-e278-45ed-b2ca-4f388ec27ab4",
   "metadata": {},
   "outputs": [],
   "source": [
    "# Nodes\n",
    "def llm_call_generator(state: State):\n",
    "    \"\"\"LLM generates a joke\"\"\"\n",
    "\n",
    "    if state.get(\"feedback\"):\n",
    "        msg = llm.invoke(\n",
    "            f\"Write a joke about {state['topic']} but take into account the feedback: {state['feedback']}\"\n",
    "        )\n",
    "    else:\n",
    "        msg = llm.invoke(f\"Write a joke about {state['topic']}\")\n",
    "    return {\"joke\": msg.content}\n",
    "\n",
    "\n",
    "def llm_call_evaluator(state: State):\n",
    "    \"\"\"LLM evaluates the joke.\"\"\"\n",
    "\n",
    "    grade = evaluator.invoke(f\"Grade this joke: {state['joke']}\")\n",
    "    return {\"funny_or_not\": grade.grade, \"feedback\": grade.feedback}\n",
    "\n",
    "\n",
    "def route_joke(state: State):\n",
    "    \"\"\"Route back to joke generator or end based upon feedback from the evaluator.\"\"\"\n",
    "\n",
    "    if state[\"funny_or_not\"] == \"funny\":\n",
    "        return \"Accepted\"\n",
    "    elif state[\"funny_or_not\"] == \"not funny\":\n",
    "        return \"Rejected + Feedback\""
   ]
  },
  {
   "cell_type": "code",
   "execution_count": 30,
   "id": "cf315796-9083-4591-8aa5-3933474cfe10",
   "metadata": {},
   "outputs": [
    {
     "data": {
      "image/png": "[encoded data removed]",
      "text/plain": [
       "<IPython.core.display.Image object>"
      ]
     },
     "metadata": {},
     "output_type": "display_data"
    }
   ],
   "source": [
    "# Build workflow\n",
    "optimizier_builder = StateGraph(State)\n",
    "\n",
    "# Add nodes\n",
    "optimizier_builder.add_node(llm_call_generator)\n",
    "optimizier_builder.add_node(llm_call_evaluator)\n",
    "\n",
    "# Add edges\n",
    "optimizier_builder.add_edge(\"__start__\", \"llm_call_generator\")\n",
    "optimizier_builder.add_edge(\"llm_call_generator\", \"llm_call_evaluator\")\n",
    "optimizier_builder.add_conditional_edges(\n",
    "    \"llm_call_evaluator\", \n",
    "    route_joke, \n",
    "    {\n",
    "        \"Accepted\": \"__end__\", \n",
    "        \"Rejected + Feedback\": \"llm_call_generator\"\n",
    "    }\n",
    ")\n",
    "\n",
    "# Compile\n",
    "optimizier_workflow = optimizier_builder.compile()\n",
    "\n",
    "# Show the workflow\n",
    "display(Image(optimizier_workflow.get_graph().draw_mermaid_png()))"
   ]
  },
  {
   "cell_type": "code",
   "execution_count": 31,
   "id": "d5fdfda8-318d-4e06-928e-0a465d6668e5",
   "metadata": {},
   "outputs": [
    {
     "name": "stderr",
     "output_type": "stream",
     "text": [
      "/opt/homebrew/Cellar/jupyterlab/4.4.0/libexec/lib/python3.13/site-packages/pydantic/json_schema.py:2324: PydanticJsonSchemaWarning: Default value (FieldInfo(annotation=NoneType, required=False, default=None, description='Decide if the joke is funny or not.'),) is not JSON serializable; excluding default from JSON schema [non-serializable-default]\n",
      "  warnings.warn(message, PydanticJsonSchemaWarning)\n"
     ]
    }
   ],
   "source": [
    "state = optimizier_workflow.invoke({\"topic\": \"rwth aachen\"})"
   ]
  },
  {
   "cell_type": "code",
   "execution_count": 32,
   "id": "0c310c8b-7bdd-426b-bf48-99ed81d4c74c",
   "metadata": {},
   "outputs": [
    {
     "data": {
      "text/plain": [
       "'funny'"
      ]
     },
     "execution_count": 32,
     "metadata": {},
     "output_type": "execute_result"
    }
   ],
   "source": [
    "state['funny_or_not']"
   ]
  },
  {
   "cell_type": "markdown",
   "id": "8bedc73a-4998-4ec1-85f3-fe46df829cea",
   "metadata": {},
   "source": [
    "### Agent"
   ]
  },
  {
   "cell_type": "code",
   "execution_count": 33,
   "id": "894e01a4-e13c-4a7f-aacc-9e2e16a21a01",
   "metadata": {},
   "outputs": [],
   "source": [
    "from langchain_core.tools import tool\n",
    "\n",
    "# Define tools\n",
    "@tool\n",
    "def add(a: int, b: int) -> int:\n",
    "    \"\"\"Add two integers a and b.\n",
    "    \n",
    "    Args:\n",
    "        a: first int\n",
    "        b: second int\n",
    "    \"\"\"\n",
    "\n",
    "    return a + b\n",
    "\n",
    "@tool\n",
    "def subtract(a: int, b: int) -> int:\n",
    "    \"\"\"Subtract a from b.\n",
    "    \n",
    "    Args:\n",
    "        a: first int\n",
    "        b: second int\n",
    "    \"\"\"\n",
    "\n",
    "    return b - a\n",
    "\n",
    "\n",
    "@tool\n",
    "def multiply(a: int, b: int) -> int:\n",
    "    \"\"\"Multiply two integers a and b.\n",
    "    \n",
    "    Args:\n",
    "        a: first int\n",
    "        b: second int\n",
    "    \"\"\"\n",
    "\n",
    "    return a * b\n",
    "\n",
    "@tool\n",
    "def divide(a: int, b: int) -> int:\n",
    "    \"\"\"Divide a by b.\n",
    "    \n",
    "    Args:\n",
    "        a: first int\n",
    "        b: second int\n",
    "    \"\"\"\n",
    "\n",
    "    return a / b\n",
    "\n",
    "# Augment the LLM with tools\n",
    "tools = [add, subtract, multiply, divide]\n",
    "tools_by_name = {tool.name: tool for tool in tools}\n",
    "llm_with_tools = llm.bind_tools(tools)"
   ]
  },
  {
   "cell_type": "code",
   "execution_count": 34,
   "id": "64c1fec0-2967-4c4d-8eb9-7d631bc2f705",
   "metadata": {},
   "outputs": [],
   "source": [
    "from langgraph.graph import MessagesState\n",
    "from langchain_core.messages import ToolMessage\n",
    "\n",
    "# Node\n",
    "def llm_call(state: MessagesState):\n",
    "    \"\"\"LLM decides whether to call a tool or not.\"\"\"\n",
    "\n",
    "    return {\n",
    "        \"messages\": [\n",
    "            llm_with_tools.invoke(\n",
    "                [\n",
    "                    SystemMessage(\n",
    "                        content=\"You are a helpful assistant tasked with performing arithmetic on a set of input.\"\n",
    "                    )\n",
    "                ] + state[\"messages\"]\n",
    "            )\n",
    "        ]\n",
    "    }\n",
    "\n",
    "\n",
    "def tool_node(state: dict):\n",
    "    \"\"\"Performs the tool call.\"\"\"\n",
    "\n",
    "    result = []\n",
    "    for tool_call in state[\"messages\"][-1].tool_calls:\n",
    "        tool = tools_by_name[tool_call[\"name\"]]\n",
    "        observation = tool.invoke(tool_call[\"args\"])\n",
    "        result.append(ToolMessage(content=observation, tool_call_id=tool_call[\"id\"]))\n",
    "    return {\"messages\": result}\n",
    "\n",
    "def should_continue(state: MessagesState) -> Literal[\"Action\", \"__end__\"]:\n",
    "    \"\"\"Decide if we should continue the loop or stop based upon whether the LLM made a tool call.\"\"\"\n",
    "\n",
    "    last_message = state[\"messages\"][-1]\n",
    "    if last_message.tool_calls:\n",
    "        return \"Action\"\n",
    "    return \"__end__\""
   ]
  },
  {
   "cell_type": "code",
   "execution_count": 35,
   "id": "3b6e239e-4bce-43fe-84f0-db72774415c2",
   "metadata": {},
   "outputs": [
    {
     "data": {
      "image/png": "[encoded data removed]",
      "text/plain": [
       "<IPython.core.display.Image object>"
      ]
     },
     "metadata": {},
     "output_type": "display_data"
    }
   ],
   "source": [
    "# Build agent\n",
    "agent_builder = StateGraph(MessagesState)\n",
    "\n",
    "# Add nodes\n",
    "agent_builder.add_node(llm_call)\n",
    "agent_builder.add_node(tool_node)\n",
    "\n",
    "\n",
    "# Add edges\n",
    "agent_builder.add_edge(\"__start__\", \"llm_call\")\n",
    "agent_builder.add_conditional_edges(\n",
    "    \"llm_call\", \n",
    "    should_continue, \n",
    "    {\n",
    "        \"Action\": \"tool_node\", \n",
    "        \"__end__\": \"__end__\"\n",
    "    }\n",
    ")\n",
    "agent_builder.add_edge(\"tool_node\", \"llm_call\")\n",
    "\n",
    "# Compile\n",
    "agent = agent_builder.compile()\n",
    "\n",
    "# Show agent\n",
    "display(Image(agent.get_graph().draw_mermaid_png()))"
   ]
  },
  {
   "cell_type": "code",
   "execution_count": 36,
   "id": "4be5f49a-ed85-4afc-9354-ecfd15db4c79",
   "metadata": {},
   "outputs": [
    {
     "name": "stdout",
     "output_type": "stream",
     "text": [
      "================================\u001b[1m Human Message \u001b[0m=================================\n",
      "\n",
      "Hello! What is 5 + 5 and then times 2?\n",
      "==================================\u001b[1m Ai Message \u001b[0m==================================\n",
      "Tool Calls:\n",
      "  add (call_1ZA8aAzgTDuu2QHEf8NMBXsW)\n",
      " Call ID: call_1ZA8aAzgTDuu2QHEf8NMBXsW\n",
      "  Args:\n",
      "    a: 5\n",
      "    b: 5\n",
      "=================================\u001b[1m Tool Message \u001b[0m=================================\n",
      "\n",
      "10\n",
      "==================================\u001b[1m Ai Message \u001b[0m==================================\n",
      "Tool Calls:\n",
      "  multiply (call_79Kv0OEiXCq6Pvg78DRDVHPH)\n",
      " Call ID: call_79Kv0OEiXCq6Pvg78DRDVHPH\n",
      "  Args:\n",
      "    a: 10\n",
      "    b: 2\n",
      "=================================\u001b[1m Tool Message \u001b[0m=================================\n",
      "\n",
      "20\n",
      "==================================\u001b[1m Ai Message \u001b[0m==================================\n",
      "\n",
      "The result of \\( (5 + 5) \\times 2 \\) is 20.\n"
     ]
    }
   ],
   "source": [
    "messages = [HumanMessage(content=\"Hello! What is 5 + 5 and then times 2?\")]\n",
    "\n",
    "messages = agent.invoke({\"messages\": messages})\n",
    "\n",
    "for m in messages[\"messages\"]:\n",
    "    m.pretty_print()"
   ]
  }
 ],
 "metadata": {
  "kernelspec": {
   "display_name": "Python 3 (ipykernel)",
   "language": "python",
   "name": "python3"
  },
  "language_info": {
   "codemirror_mode": {
    "name": "ipython",
    "version": 3
   },
   "file_extension": ".py",
   "mimetype": "text/x-python",
   "name": "python",
   "nbconvert_exporter": "python",
   "pygments_lexer": "ipython3",
   "version": "3.13.2"
  }
 },
 "nbformat": 4,
 "nbformat_minor": 5
}
